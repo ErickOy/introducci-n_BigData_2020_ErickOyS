{
 "cells": [
  {
   "cell_type": "markdown",
   "id": "institutional-ecuador",
   "metadata": {},
   "source": [
    "## Exportamos las librerias."
   ]
  },
  {
   "cell_type": "code",
   "execution_count": 1,
   "id": "radical-arrow",
   "metadata": {},
   "outputs": [],
   "source": [
    "#Libreria para hacer DataFrame \n",
    "import pandas as pd \n",
    "\n",
    "#Libreria Para hacer grafica y comparaciones \n",
    "import seaborn as sns\n",
    "\n",
    "#Librerias para graficas de forma general \n",
    "from matplotlib import pyplot as plt"
   ]
  },
  {
   "cell_type": "markdown",
   "id": "verbal-corrections",
   "metadata": {},
   "source": [
    "## Extraemos los datos de la API en formato JSON."
   ]
  },
  {
   "cell_type": "code",
   "execution_count": 2,
   "id": "informative-canyon",
   "metadata": {},
   "outputs": [],
   "source": [
    "dt = pd.read_json('Proyecto_Jardin.json')"
   ]
  },
  {
   "cell_type": "markdown",
   "id": "initial-advisory",
   "metadata": {},
   "source": [
    "## Podemos ver nuestros datos de la API."
   ]
  },
  {
   "cell_type": "code",
   "execution_count": 3,
   "id": "educational-reproduction",
   "metadata": {},
   "outputs": [
    {
     "data": {
      "text/html": [
       "<div>\n",
       "<style scoped>\n",
       "    .dataframe tbody tr th:only-of-type {\n",
       "        vertical-align: middle;\n",
       "    }\n",
       "\n",
       "    .dataframe tbody tr th {\n",
       "        vertical-align: top;\n",
       "    }\n",
       "\n",
       "    .dataframe thead th {\n",
       "        text-align: right;\n",
       "    }\n",
       "</style>\n",
       "<table border=\"1\" class=\"dataframe\">\n",
       "  <thead>\n",
       "    <tr style=\"text-align: right;\">\n",
       "      <th></th>\n",
       "      <th>id</th>\n",
       "      <th>H_AM</th>\n",
       "      <th>T_AM</th>\n",
       "      <th>H_SU</th>\n",
       "      <th>fechaJ</th>\n",
       "    </tr>\n",
       "  </thead>\n",
       "  <tbody>\n",
       "    <tr>\n",
       "      <th>0</th>\n",
       "      <td>28</td>\n",
       "      <td>23.2</td>\n",
       "      <td>21</td>\n",
       "      <td>32.1</td>\n",
       "      <td>2021-03-07 18:46:19</td>\n",
       "    </tr>\n",
       "    <tr>\n",
       "      <th>1</th>\n",
       "      <td>29</td>\n",
       "      <td>50.0</td>\n",
       "      <td>23</td>\n",
       "      <td>44.0</td>\n",
       "      <td>2021-03-07 18:47:04</td>\n",
       "    </tr>\n",
       "    <tr>\n",
       "      <th>2</th>\n",
       "      <td>30</td>\n",
       "      <td>40.0</td>\n",
       "      <td>23</td>\n",
       "      <td>39.0</td>\n",
       "      <td>2021-03-07 18:48:04</td>\n",
       "    </tr>\n",
       "    <tr>\n",
       "      <th>3</th>\n",
       "      <td>31</td>\n",
       "      <td>60.0</td>\n",
       "      <td>25</td>\n",
       "      <td>33.0</td>\n",
       "      <td>2021-03-07 18:48:45</td>\n",
       "    </tr>\n",
       "    <tr>\n",
       "      <th>4</th>\n",
       "      <td>32</td>\n",
       "      <td>55.0</td>\n",
       "      <td>28</td>\n",
       "      <td>12.0</td>\n",
       "      <td>2021-03-07 18:49:45</td>\n",
       "    </tr>\n",
       "    <tr>\n",
       "      <th>5</th>\n",
       "      <td>33</td>\n",
       "      <td>43.0</td>\n",
       "      <td>28</td>\n",
       "      <td>11.0</td>\n",
       "      <td>2021-03-07 18:50:04</td>\n",
       "    </tr>\n",
       "    <tr>\n",
       "      <th>6</th>\n",
       "      <td>34</td>\n",
       "      <td>55.0</td>\n",
       "      <td>19</td>\n",
       "      <td>43.0</td>\n",
       "      <td>2021-03-07 18:50:31</td>\n",
       "    </tr>\n",
       "    <tr>\n",
       "      <th>7</th>\n",
       "      <td>35</td>\n",
       "      <td>55.0</td>\n",
       "      <td>19</td>\n",
       "      <td>43.0</td>\n",
       "      <td>2021-03-07 18:50:42</td>\n",
       "    </tr>\n",
       "    <tr>\n",
       "      <th>8</th>\n",
       "      <td>36</td>\n",
       "      <td>31.0</td>\n",
       "      <td>34</td>\n",
       "      <td>39.0</td>\n",
       "      <td>2021-03-07 18:51:20</td>\n",
       "    </tr>\n",
       "    <tr>\n",
       "      <th>9</th>\n",
       "      <td>37</td>\n",
       "      <td>39.0</td>\n",
       "      <td>21</td>\n",
       "      <td>31.0</td>\n",
       "      <td>2021-03-07 18:52:20</td>\n",
       "    </tr>\n",
       "    <tr>\n",
       "      <th>10</th>\n",
       "      <td>38</td>\n",
       "      <td>26.0</td>\n",
       "      <td>35</td>\n",
       "      <td>26.0</td>\n",
       "      <td>2021-03-07 18:53:17</td>\n",
       "    </tr>\n",
       "    <tr>\n",
       "      <th>11</th>\n",
       "      <td>39</td>\n",
       "      <td>26.0</td>\n",
       "      <td>35</td>\n",
       "      <td>26.0</td>\n",
       "      <td>2021-03-07 18:53:22</td>\n",
       "    </tr>\n",
       "    <tr>\n",
       "      <th>12</th>\n",
       "      <td>40</td>\n",
       "      <td>16.0</td>\n",
       "      <td>38</td>\n",
       "      <td>18.0</td>\n",
       "      <td>2021-03-07 22:16:46</td>\n",
       "    </tr>\n",
       "    <tr>\n",
       "      <th>13</th>\n",
       "      <td>41</td>\n",
       "      <td>37.0</td>\n",
       "      <td>18</td>\n",
       "      <td>23.0</td>\n",
       "      <td>2021-03-07 22:17:14</td>\n",
       "    </tr>\n",
       "    <tr>\n",
       "      <th>14</th>\n",
       "      <td>42</td>\n",
       "      <td>22.0</td>\n",
       "      <td>35</td>\n",
       "      <td>21.0</td>\n",
       "      <td>2021-03-07 22:18:02</td>\n",
       "    </tr>\n",
       "    <tr>\n",
       "      <th>15</th>\n",
       "      <td>44</td>\n",
       "      <td>33.0</td>\n",
       "      <td>43</td>\n",
       "      <td>22.0</td>\n",
       "      <td>2021-03-07 22:19:51</td>\n",
       "    </tr>\n",
       "    <tr>\n",
       "      <th>16</th>\n",
       "      <td>45</td>\n",
       "      <td>21.0</td>\n",
       "      <td>32</td>\n",
       "      <td>33.0</td>\n",
       "      <td>2021-03-07 22:23:12</td>\n",
       "    </tr>\n",
       "    <tr>\n",
       "      <th>17</th>\n",
       "      <td>46</td>\n",
       "      <td>21.0</td>\n",
       "      <td>30</td>\n",
       "      <td>34.0</td>\n",
       "      <td>2021-03-07 22:24:55</td>\n",
       "    </tr>\n",
       "  </tbody>\n",
       "</table>\n",
       "</div>"
      ],
      "text/plain": [
       "    id  H_AM  T_AM  H_SU               fechaJ\n",
       "0   28  23.2    21  32.1  2021-03-07 18:46:19\n",
       "1   29  50.0    23  44.0  2021-03-07 18:47:04\n",
       "2   30  40.0    23  39.0  2021-03-07 18:48:04\n",
       "3   31  60.0    25  33.0  2021-03-07 18:48:45\n",
       "4   32  55.0    28  12.0  2021-03-07 18:49:45\n",
       "5   33  43.0    28  11.0  2021-03-07 18:50:04\n",
       "6   34  55.0    19  43.0  2021-03-07 18:50:31\n",
       "7   35  55.0    19  43.0  2021-03-07 18:50:42\n",
       "8   36  31.0    34  39.0  2021-03-07 18:51:20\n",
       "9   37  39.0    21  31.0  2021-03-07 18:52:20\n",
       "10  38  26.0    35  26.0  2021-03-07 18:53:17\n",
       "11  39  26.0    35  26.0  2021-03-07 18:53:22\n",
       "12  40  16.0    38  18.0  2021-03-07 22:16:46\n",
       "13  41  37.0    18  23.0  2021-03-07 22:17:14\n",
       "14  42  22.0    35  21.0  2021-03-07 22:18:02\n",
       "15  44  33.0    43  22.0  2021-03-07 22:19:51\n",
       "16  45  21.0    32  33.0  2021-03-07 22:23:12\n",
       "17  46  21.0    30  34.0  2021-03-07 22:24:55"
      ]
     },
     "execution_count": 3,
     "metadata": {},
     "output_type": "execute_result"
    }
   ],
   "source": [
    "dt  #Humedad ambiente, temperatura ambiente, humedad de la tierra y fecha."
   ]
  },
  {
   "cell_type": "markdown",
   "id": "focused-county",
   "metadata": {},
   "source": [
    "## Imprimir nuestra información sobre nuestro DataFrame "
   ]
  },
  {
   "cell_type": "code",
   "execution_count": 4,
   "id": "hired-rochester",
   "metadata": {},
   "outputs": [
    {
     "name": "stdout",
     "output_type": "stream",
     "text": [
      "<class 'pandas.core.frame.DataFrame'>\n",
      "RangeIndex: 18 entries, 0 to 17\n",
      "Data columns (total 5 columns):\n",
      " #   Column  Non-Null Count  Dtype  \n",
      "---  ------  --------------  -----  \n",
      " 0   id      18 non-null     int64  \n",
      " 1   H_AM    18 non-null     float64\n",
      " 2   T_AM    18 non-null     int64  \n",
      " 3   H_SU    18 non-null     float64\n",
      " 4   fechaJ  18 non-null     object \n",
      "dtypes: float64(2), int64(2), object(1)\n",
      "memory usage: 848.0+ bytes\n"
     ]
    }
   ],
   "source": [
    "dt.info()"
   ]
  },
  {
   "cell_type": "markdown",
   "id": "grave-tobago",
   "metadata": {},
   "source": [
    "## Este comando genera estadísticas descriptivas sobre nuestra API.\n"
   ]
  },
  {
   "cell_type": "code",
   "execution_count": 5,
   "id": "advised-studio",
   "metadata": {},
   "outputs": [
    {
     "data": {
      "text/html": [
       "<div>\n",
       "<style scoped>\n",
       "    .dataframe tbody tr th:only-of-type {\n",
       "        vertical-align: middle;\n",
       "    }\n",
       "\n",
       "    .dataframe tbody tr th {\n",
       "        vertical-align: top;\n",
       "    }\n",
       "\n",
       "    .dataframe thead th {\n",
       "        text-align: right;\n",
       "    }\n",
       "</style>\n",
       "<table border=\"1\" class=\"dataframe\">\n",
       "  <thead>\n",
       "    <tr style=\"text-align: right;\">\n",
       "      <th></th>\n",
       "      <th>id</th>\n",
       "      <th>H_AM</th>\n",
       "      <th>T_AM</th>\n",
       "      <th>H_SU</th>\n",
       "    </tr>\n",
       "  </thead>\n",
       "  <tbody>\n",
       "    <tr>\n",
       "      <th>count</th>\n",
       "      <td>18.000000</td>\n",
       "      <td>18.000000</td>\n",
       "      <td>18.000000</td>\n",
       "      <td>18.00000</td>\n",
       "    </tr>\n",
       "    <tr>\n",
       "      <th>mean</th>\n",
       "      <td>36.666667</td>\n",
       "      <td>36.288889</td>\n",
       "      <td>28.166667</td>\n",
       "      <td>29.45000</td>\n",
       "    </tr>\n",
       "    <tr>\n",
       "      <th>std</th>\n",
       "      <td>5.594115</td>\n",
       "      <td>14.084488</td>\n",
       "      <td>7.461667</td>\n",
       "      <td>10.24685</td>\n",
       "    </tr>\n",
       "    <tr>\n",
       "      <th>min</th>\n",
       "      <td>28.000000</td>\n",
       "      <td>16.000000</td>\n",
       "      <td>18.000000</td>\n",
       "      <td>11.00000</td>\n",
       "    </tr>\n",
       "    <tr>\n",
       "      <th>25%</th>\n",
       "      <td>32.250000</td>\n",
       "      <td>23.900000</td>\n",
       "      <td>21.500000</td>\n",
       "      <td>22.25000</td>\n",
       "    </tr>\n",
       "    <tr>\n",
       "      <th>50%</th>\n",
       "      <td>36.500000</td>\n",
       "      <td>35.000000</td>\n",
       "      <td>28.000000</td>\n",
       "      <td>31.55000</td>\n",
       "    </tr>\n",
       "    <tr>\n",
       "      <th>75%</th>\n",
       "      <td>40.750000</td>\n",
       "      <td>48.250000</td>\n",
       "      <td>34.750000</td>\n",
       "      <td>37.75000</td>\n",
       "    </tr>\n",
       "    <tr>\n",
       "      <th>max</th>\n",
       "      <td>46.000000</td>\n",
       "      <td>60.000000</td>\n",
       "      <td>43.000000</td>\n",
       "      <td>44.00000</td>\n",
       "    </tr>\n",
       "  </tbody>\n",
       "</table>\n",
       "</div>"
      ],
      "text/plain": [
       "              id       H_AM       T_AM      H_SU\n",
       "count  18.000000  18.000000  18.000000  18.00000\n",
       "mean   36.666667  36.288889  28.166667  29.45000\n",
       "std     5.594115  14.084488   7.461667  10.24685\n",
       "min    28.000000  16.000000  18.000000  11.00000\n",
       "25%    32.250000  23.900000  21.500000  22.25000\n",
       "50%    36.500000  35.000000  28.000000  31.55000\n",
       "75%    40.750000  48.250000  34.750000  37.75000\n",
       "max    46.000000  60.000000  43.000000  44.00000"
      ]
     },
     "execution_count": 5,
     "metadata": {},
     "output_type": "execute_result"
    }
   ],
   "source": [
    "dt.describe()"
   ]
  },
  {
   "cell_type": "markdown",
   "id": "individual-baking",
   "metadata": {},
   "source": [
    "## Vamos a ver nuestra correlación de nuestros datos."
   ]
  },
  {
   "cell_type": "code",
   "execution_count": 6,
   "id": "entire-crawford",
   "metadata": {},
   "outputs": [
    {
     "data": {
      "text/html": [
       "<div>\n",
       "<style scoped>\n",
       "    .dataframe tbody tr th:only-of-type {\n",
       "        vertical-align: middle;\n",
       "    }\n",
       "\n",
       "    .dataframe tbody tr th {\n",
       "        vertical-align: top;\n",
       "    }\n",
       "\n",
       "    .dataframe thead th {\n",
       "        text-align: right;\n",
       "    }\n",
       "</style>\n",
       "<table border=\"1\" class=\"dataframe\">\n",
       "  <thead>\n",
       "    <tr style=\"text-align: right;\">\n",
       "      <th></th>\n",
       "      <th>id</th>\n",
       "      <th>H_AM</th>\n",
       "      <th>T_AM</th>\n",
       "      <th>H_SU</th>\n",
       "    </tr>\n",
       "  </thead>\n",
       "  <tbody>\n",
       "    <tr>\n",
       "      <th>id</th>\n",
       "      <td>1.000000</td>\n",
       "      <td>-0.606276</td>\n",
       "      <td>0.559467</td>\n",
       "      <td>-0.246492</td>\n",
       "    </tr>\n",
       "    <tr>\n",
       "      <th>H_AM</th>\n",
       "      <td>-0.606276</td>\n",
       "      <td>1.000000</td>\n",
       "      <td>-0.587300</td>\n",
       "      <td>0.250657</td>\n",
       "    </tr>\n",
       "    <tr>\n",
       "      <th>T_AM</th>\n",
       "      <td>0.559467</td>\n",
       "      <td>-0.587300</td>\n",
       "      <td>1.000000</td>\n",
       "      <td>-0.456264</td>\n",
       "    </tr>\n",
       "    <tr>\n",
       "      <th>H_SU</th>\n",
       "      <td>-0.246492</td>\n",
       "      <td>0.250657</td>\n",
       "      <td>-0.456264</td>\n",
       "      <td>1.000000</td>\n",
       "    </tr>\n",
       "  </tbody>\n",
       "</table>\n",
       "</div>"
      ],
      "text/plain": [
       "            id      H_AM      T_AM      H_SU\n",
       "id    1.000000 -0.606276  0.559467 -0.246492\n",
       "H_AM -0.606276  1.000000 -0.587300  0.250657\n",
       "T_AM  0.559467 -0.587300  1.000000 -0.456264\n",
       "H_SU -0.246492  0.250657 -0.456264  1.000000"
      ]
     },
     "execution_count": 6,
     "metadata": {},
     "output_type": "execute_result"
    }
   ],
   "source": [
    "dt.corr()"
   ]
  },
  {
   "cell_type": "markdown",
   "id": "incomplete-oasis",
   "metadata": {},
   "source": [
    "##  Vamos a relacionar nuestros datos de la API. "
   ]
  },
  {
   "cell_type": "code",
   "execution_count": 7,
   "id": "rough-windows",
   "metadata": {},
   "outputs": [],
   "source": [
    "Relation = dt[['H_AM','T_AM','H_SU']] "
   ]
  },
  {
   "cell_type": "code",
   "execution_count": 8,
   "id": "portuguese-concentrate",
   "metadata": {},
   "outputs": [
    {
     "data": {
      "text/html": [
       "<div>\n",
       "<style scoped>\n",
       "    .dataframe tbody tr th:only-of-type {\n",
       "        vertical-align: middle;\n",
       "    }\n",
       "\n",
       "    .dataframe tbody tr th {\n",
       "        vertical-align: top;\n",
       "    }\n",
       "\n",
       "    .dataframe thead th {\n",
       "        text-align: right;\n",
       "    }\n",
       "</style>\n",
       "<table border=\"1\" class=\"dataframe\">\n",
       "  <thead>\n",
       "    <tr style=\"text-align: right;\">\n",
       "      <th></th>\n",
       "      <th>H_AM</th>\n",
       "      <th>T_AM</th>\n",
       "      <th>H_SU</th>\n",
       "    </tr>\n",
       "  </thead>\n",
       "  <tbody>\n",
       "    <tr>\n",
       "      <th>0</th>\n",
       "      <td>23.2</td>\n",
       "      <td>21</td>\n",
       "      <td>32.1</td>\n",
       "    </tr>\n",
       "    <tr>\n",
       "      <th>1</th>\n",
       "      <td>50.0</td>\n",
       "      <td>23</td>\n",
       "      <td>44.0</td>\n",
       "    </tr>\n",
       "    <tr>\n",
       "      <th>2</th>\n",
       "      <td>40.0</td>\n",
       "      <td>23</td>\n",
       "      <td>39.0</td>\n",
       "    </tr>\n",
       "    <tr>\n",
       "      <th>3</th>\n",
       "      <td>60.0</td>\n",
       "      <td>25</td>\n",
       "      <td>33.0</td>\n",
       "    </tr>\n",
       "    <tr>\n",
       "      <th>4</th>\n",
       "      <td>55.0</td>\n",
       "      <td>28</td>\n",
       "      <td>12.0</td>\n",
       "    </tr>\n",
       "  </tbody>\n",
       "</table>\n",
       "</div>"
      ],
      "text/plain": [
       "   H_AM  T_AM  H_SU\n",
       "0  23.2    21  32.1\n",
       "1  50.0    23  44.0\n",
       "2  40.0    23  39.0\n",
       "3  60.0    25  33.0\n",
       "4  55.0    28  12.0"
      ]
     },
     "execution_count": 8,
     "metadata": {},
     "output_type": "execute_result"
    }
   ],
   "source": [
    "Relation.head()"
   ]
  },
  {
   "cell_type": "markdown",
   "id": "entitled-springer",
   "metadata": {},
   "source": [
    "## Vamos a ver como se relacionan nuestros datos."
   ]
  },
  {
   "cell_type": "code",
   "execution_count": 9,
   "id": "upset-river",
   "metadata": {},
   "outputs": [
    {
     "data": {
      "image/png": "[encoded data removed]",
      "text/plain": [
       "<Figure size 540x540 with 12 Axes>"
      ]
     },
     "metadata": {
      "needs_background": "light"
     },
     "output_type": "display_data"
    }
   ],
   "source": [
    "sns.pairplot(Relation, kind='reg')\n",
    "plt.show()"
   ]
  },
  {
   "cell_type": "code",
   "execution_count": 10,
   "id": "literary-dayton",
   "metadata": {},
   "outputs": [
    {
     "data": {
      "text/plain": [
       "<matplotlib.axes._subplots.AxesSubplot at 0x7fd7a169c5f8>"
      ]
     },
     "execution_count": 10,
     "metadata": {},
     "output_type": "execute_result"
    },
    {
     "data": {
      "image/png": "[encoded data removed]",
      "text/plain": [
       "<Figure size 432x288 with 1 Axes>"
      ]
     },
     "metadata": {
      "needs_background": "light"
     },
     "output_type": "display_data"
    }
   ],
   "source": [
    "sns.distplot(dt.H_AM)"
   ]
  },
  {
   "cell_type": "code",
   "execution_count": 11,
   "id": "meaningful-romance",
   "metadata": {},
   "outputs": [
    {
     "data": {
      "text/plain": [
       "<matplotlib.axes._subplots.AxesSubplot at 0x7fd7a166b438>"
      ]
     },
     "execution_count": 11,
     "metadata": {},
     "output_type": "execute_result"
    },
    {
     "data": {
      "image/png": "[encoded data removed]",
      "text/plain": [
       "<Figure size 432x288 with 1 Axes>"
      ]
     },
     "metadata": {
      "needs_background": "light"
     },
     "output_type": "display_data"
    }
   ],
   "source": [
    "sns.distplot(dt.T_AM)"
   ]
  },
  {
   "cell_type": "code",
   "execution_count": 13,
   "id": "matched-annual",
   "metadata": {},
   "outputs": [
    {
     "data": {
      "text/plain": [
       "<seaborn.axisgrid.FacetGrid at 0x7fd7a17100f0>"
      ]
     },
     "execution_count": 13,
     "metadata": {},
     "output_type": "execute_result"
    },
    {
     "data": {
      "image/png": "[encoded data removed]",
      "text/plain": [
       "<Figure size 360x360 with 1 Axes>"
      ]
     },
     "metadata": {
      "needs_background": "light"
     },
     "output_type": "display_data"
    }
   ],
   "source": [
    "sns.lmplot(x='H_AM', y='H_SU', data=dt)  #Humedad ambiente y humedad de la tierra.\n"
   ]
  },
  {
   "cell_type": "code",
   "execution_count": 14,
   "id": "pharmaceutical-oasis",
   "metadata": {},
   "outputs": [
    {
     "data": {
      "text/plain": [
       "<seaborn.axisgrid.FacetGrid at 0x7fd7a17cb5f8>"
      ]
     },
     "execution_count": 14,
     "metadata": {},
     "output_type": "execute_result"
    },
    {
     "data": {
      "image/png": "[encoded data removed]",
      "text/plain": [
       "<Figure size 360x360 with 1 Axes>"
      ]
     },
     "metadata": {
      "needs_background": "light"
     },
     "output_type": "display_data"
    }
   ],
   "source": [
    "sns.lmplot(x='H_AM', y='T_AM', data=dt) #Humedad ambiente y temperatua ambiente "
   ]
  },
  {
   "cell_type": "code",
   "execution_count": 15,
   "id": "polish-divorce",
   "metadata": {},
   "outputs": [
    {
     "data": {
      "text/plain": [
       "<seaborn.axisgrid.FacetGrid at 0x7fd7a1914e48>"
      ]
     },
     "execution_count": 15,
     "metadata": {},
     "output_type": "execute_result"
    },
    {
     "data": {
      "image/png": "[encoded data removed]",
      "text/plain": [
       "<Figure size 360x360 with 1 Axes>"
      ]
     },
     "metadata": {
      "needs_background": "light"
     },
     "output_type": "display_data"
    }
   ],
   "source": [
    "sns.lmplot(x='H_SU', y='T_AM', data=dt)"
   ]
  },
  {
   "cell_type": "markdown",
   "id": "civilian-warrant",
   "metadata": {},
   "source": []
  },
  {
   "cell_type": "code",
   "execution_count": 16,
   "id": "based-paste",
   "metadata": {},
   "outputs": [
    {
     "data": {
      "text/plain": [
       "Index(['id', 'H_AM', 'T_AM', 'H_SU', 'fechaJ'], dtype='object')"
      ]
     },
     "execution_count": 16,
     "metadata": {},
     "output_type": "execute_result"
    }
   ],
   "source": [
    "dt.columns ##Las etiquetas de las columnas del dataframe "
   ]
  },
  {
   "cell_type": "code",
   "execution_count": 22,
   "id": "retained-seventh",
   "metadata": {},
   "outputs": [
    {
     "data": {
      "text/plain": [
       "array([23.2, 50. , 40. , 60. , 55. , 43. , 31. , 39. , 26. , 16. , 37. ,\n",
       "       22. , 33. , 21. ])"
      ]
     },
     "execution_count": 22,
     "metadata": {},
     "output_type": "execute_result"
    }
   ],
   "source": [
    "pd.unique(dt['H_AM']) ## Trae los valores unicos de la Humedad ambiente"
   ]
  },
  {
   "cell_type": "code",
   "execution_count": 23,
   "id": "soviet-morocco",
   "metadata": {},
   "outputs": [
    {
     "data": {
      "text/plain": [
       "array([21, 23, 25, 28, 19, 34, 35, 38, 18, 43, 32, 30])"
      ]
     },
     "execution_count": 23,
     "metadata": {},
     "output_type": "execute_result"
    }
   ],
   "source": [
    "pd.unique(dt['T_AM']) #Trae los valores unicos de temperatura ambiente"
   ]
  },
  {
   "cell_type": "markdown",
   "id": "fossil-geography",
   "metadata": {},
   "source": [
    "## Minimo, Maximo, promedio, desviasión estandar, conteo. "
   ]
  },
  {
   "cell_type": "code",
   "execution_count": 24,
   "id": "palestinian-lesbian",
   "metadata": {},
   "outputs": [],
   "source": [
    "data = dt['H_AM'].min(), dt['H_AM'].max(), dt['H_AM'].mean(), dt['H_AM'].std(),dt['H_AM'].count()"
   ]
  },
  {
   "cell_type": "code",
   "execution_count": 25,
   "id": "liberal-theology",
   "metadata": {},
   "outputs": [
    {
     "data": {
      "text/plain": [
       "(16.0, 60.0, 36.28888888888889, 14.084488292356111, 18)"
      ]
     },
     "execution_count": 25,
     "metadata": {},
     "output_type": "execute_result"
    }
   ],
   "source": [
    "data"
   ]
  },
  {
   "cell_type": "code",
   "execution_count": 28,
   "id": "military-range",
   "metadata": {},
   "outputs": [],
   "source": [
    "data = dt['T_AM'].min(), dt['T_AM'].max(), dt['T_AM'].mean(), dt['T_AM'].std(),dt['T_AM'].count()"
   ]
  },
  {
   "cell_type": "code",
   "execution_count": 29,
   "id": "sound-vocabulary",
   "metadata": {},
   "outputs": [
    {
     "data": {
      "text/plain": [
       "(18, 43, 28.166666666666668, 7.461666743311128, 18)"
      ]
     },
     "execution_count": 29,
     "metadata": {},
     "output_type": "execute_result"
    }
   ],
   "source": [
    "data"
   ]
  },
  {
   "cell_type": "code",
   "execution_count": 30,
   "id": "brown-nursing",
   "metadata": {},
   "outputs": [],
   "source": [
    "data = dt['H_SU'].min(), dt['H_SU'].max(), dt['H_SU'].mean(), dt['H_SU'].std(),dt['H_SU'].count()"
   ]
  },
  {
   "cell_type": "code",
   "execution_count": 31,
   "id": "modular-kennedy",
   "metadata": {},
   "outputs": [
    {
     "data": {
      "text/plain": [
       "(11.0, 44.0, 29.450000000000003, 10.246850305165513, 18)"
      ]
     },
     "execution_count": 31,
     "metadata": {},
     "output_type": "execute_result"
    }
   ],
   "source": [
    "data"
   ]
  },
  {
   "cell_type": "markdown",
   "id": "separated-onion",
   "metadata": {},
   "source": [
    "## Renombrando las columnas para un mejor manejo"
   ]
  },
  {
   "cell_type": "code",
   "execution_count": 50,
   "id": "double-ottawa",
   "metadata": {},
   "outputs": [],
   "source": [
    "dt.rename (columns = {dt.columns [1]: 'Humedad Ambiente'}, inplace = True)\n",
    "dt.rename (columns = {dt.columns [2]: 'Temperatura Suelo'}, inplace = True)\n",
    "dt.rename (columns = {dt.columns [3]: 'Humedad Suelo'}, inplace = True)\n",
    "dt.rename (columns = {dt.columns [4]: 'Fecha'}, inplace = True)\n",
    "\n"
   ]
  },
  {
   "cell_type": "code",
   "execution_count": 51,
   "id": "described-novel",
   "metadata": {
    "scrolled": true
   },
   "outputs": [
    {
     "data": {
      "text/html": [
       "<div>\n",
       "<style scoped>\n",
       "    .dataframe tbody tr th:only-of-type {\n",
       "        vertical-align: middle;\n",
       "    }\n",
       "\n",
       "    .dataframe tbody tr th {\n",
       "        vertical-align: top;\n",
       "    }\n",
       "\n",
       "    .dataframe thead th {\n",
       "        text-align: right;\n",
       "    }\n",
       "</style>\n",
       "<table border=\"1\" class=\"dataframe\">\n",
       "  <thead>\n",
       "    <tr style=\"text-align: right;\">\n",
       "      <th></th>\n",
       "      <th>id</th>\n",
       "      <th>Humedad Ambiente</th>\n",
       "      <th>Temperatura Suelo</th>\n",
       "      <th>Humedad Suelo</th>\n",
       "      <th>Fecha</th>\n",
       "    </tr>\n",
       "  </thead>\n",
       "  <tbody>\n",
       "    <tr>\n",
       "      <th>0</th>\n",
       "      <td>28</td>\n",
       "      <td>23.2</td>\n",
       "      <td>21</td>\n",
       "      <td>32.1</td>\n",
       "      <td>2021-03-07 18:46:19</td>\n",
       "    </tr>\n",
       "    <tr>\n",
       "      <th>1</th>\n",
       "      <td>29</td>\n",
       "      <td>50.0</td>\n",
       "      <td>23</td>\n",
       "      <td>44.0</td>\n",
       "      <td>2021-03-07 18:47:04</td>\n",
       "    </tr>\n",
       "    <tr>\n",
       "      <th>2</th>\n",
       "      <td>30</td>\n",
       "      <td>40.0</td>\n",
       "      <td>23</td>\n",
       "      <td>39.0</td>\n",
       "      <td>2021-03-07 18:48:04</td>\n",
       "    </tr>\n",
       "    <tr>\n",
       "      <th>3</th>\n",
       "      <td>31</td>\n",
       "      <td>60.0</td>\n",
       "      <td>25</td>\n",
       "      <td>33.0</td>\n",
       "      <td>2021-03-07 18:48:45</td>\n",
       "    </tr>\n",
       "    <tr>\n",
       "      <th>4</th>\n",
       "      <td>32</td>\n",
       "      <td>55.0</td>\n",
       "      <td>28</td>\n",
       "      <td>12.0</td>\n",
       "      <td>2021-03-07 18:49:45</td>\n",
       "    </tr>\n",
       "    <tr>\n",
       "      <th>5</th>\n",
       "      <td>33</td>\n",
       "      <td>43.0</td>\n",
       "      <td>28</td>\n",
       "      <td>11.0</td>\n",
       "      <td>2021-03-07 18:50:04</td>\n",
       "    </tr>\n",
       "    <tr>\n",
       "      <th>6</th>\n",
       "      <td>34</td>\n",
       "      <td>55.0</td>\n",
       "      <td>19</td>\n",
       "      <td>43.0</td>\n",
       "      <td>2021-03-07 18:50:31</td>\n",
       "    </tr>\n",
       "    <tr>\n",
       "      <th>7</th>\n",
       "      <td>35</td>\n",
       "      <td>55.0</td>\n",
       "      <td>19</td>\n",
       "      <td>43.0</td>\n",
       "      <td>2021-03-07 18:50:42</td>\n",
       "    </tr>\n",
       "    <tr>\n",
       "      <th>8</th>\n",
       "      <td>36</td>\n",
       "      <td>31.0</td>\n",
       "      <td>34</td>\n",
       "      <td>39.0</td>\n",
       "      <td>2021-03-07 18:51:20</td>\n",
       "    </tr>\n",
       "    <tr>\n",
       "      <th>9</th>\n",
       "      <td>37</td>\n",
       "      <td>39.0</td>\n",
       "      <td>21</td>\n",
       "      <td>31.0</td>\n",
       "      <td>2021-03-07 18:52:20</td>\n",
       "    </tr>\n",
       "    <tr>\n",
       "      <th>10</th>\n",
       "      <td>38</td>\n",
       "      <td>26.0</td>\n",
       "      <td>35</td>\n",
       "      <td>26.0</td>\n",
       "      <td>2021-03-07 18:53:17</td>\n",
       "    </tr>\n",
       "    <tr>\n",
       "      <th>11</th>\n",
       "      <td>39</td>\n",
       "      <td>26.0</td>\n",
       "      <td>35</td>\n",
       "      <td>26.0</td>\n",
       "      <td>2021-03-07 18:53:22</td>\n",
       "    </tr>\n",
       "    <tr>\n",
       "      <th>12</th>\n",
       "      <td>40</td>\n",
       "      <td>16.0</td>\n",
       "      <td>38</td>\n",
       "      <td>18.0</td>\n",
       "      <td>2021-03-07 22:16:46</td>\n",
       "    </tr>\n",
       "    <tr>\n",
       "      <th>13</th>\n",
       "      <td>41</td>\n",
       "      <td>37.0</td>\n",
       "      <td>18</td>\n",
       "      <td>23.0</td>\n",
       "      <td>2021-03-07 22:17:14</td>\n",
       "    </tr>\n",
       "    <tr>\n",
       "      <th>14</th>\n",
       "      <td>42</td>\n",
       "      <td>22.0</td>\n",
       "      <td>35</td>\n",
       "      <td>21.0</td>\n",
       "      <td>2021-03-07 22:18:02</td>\n",
       "    </tr>\n",
       "    <tr>\n",
       "      <th>15</th>\n",
       "      <td>44</td>\n",
       "      <td>33.0</td>\n",
       "      <td>43</td>\n",
       "      <td>22.0</td>\n",
       "      <td>2021-03-07 22:19:51</td>\n",
       "    </tr>\n",
       "    <tr>\n",
       "      <th>16</th>\n",
       "      <td>45</td>\n",
       "      <td>21.0</td>\n",
       "      <td>32</td>\n",
       "      <td>33.0</td>\n",
       "      <td>2021-03-07 22:23:12</td>\n",
       "    </tr>\n",
       "    <tr>\n",
       "      <th>17</th>\n",
       "      <td>46</td>\n",
       "      <td>21.0</td>\n",
       "      <td>30</td>\n",
       "      <td>34.0</td>\n",
       "      <td>2021-03-07 22:24:55</td>\n",
       "    </tr>\n",
       "  </tbody>\n",
       "</table>\n",
       "</div>"
      ],
      "text/plain": [
       "    id  Humedad Ambiente  Temperatura Suelo  Humedad Suelo  \\\n",
       "0   28              23.2                 21           32.1   \n",
       "1   29              50.0                 23           44.0   \n",
       "2   30              40.0                 23           39.0   \n",
       "3   31              60.0                 25           33.0   \n",
       "4   32              55.0                 28           12.0   \n",
       "5   33              43.0                 28           11.0   \n",
       "6   34              55.0                 19           43.0   \n",
       "7   35              55.0                 19           43.0   \n",
       "8   36              31.0                 34           39.0   \n",
       "9   37              39.0                 21           31.0   \n",
       "10  38              26.0                 35           26.0   \n",
       "11  39              26.0                 35           26.0   \n",
       "12  40              16.0                 38           18.0   \n",
       "13  41              37.0                 18           23.0   \n",
       "14  42              22.0                 35           21.0   \n",
       "15  44              33.0                 43           22.0   \n",
       "16  45              21.0                 32           33.0   \n",
       "17  46              21.0                 30           34.0   \n",
       "\n",
       "                  Fecha  \n",
       "0   2021-03-07 18:46:19  \n",
       "1   2021-03-07 18:47:04  \n",
       "2   2021-03-07 18:48:04  \n",
       "3   2021-03-07 18:48:45  \n",
       "4   2021-03-07 18:49:45  \n",
       "5   2021-03-07 18:50:04  \n",
       "6   2021-03-07 18:50:31  \n",
       "7   2021-03-07 18:50:42  \n",
       "8   2021-03-07 18:51:20  \n",
       "9   2021-03-07 18:52:20  \n",
       "10  2021-03-07 18:53:17  \n",
       "11  2021-03-07 18:53:22  \n",
       "12  2021-03-07 22:16:46  \n",
       "13  2021-03-07 22:17:14  \n",
       "14  2021-03-07 22:18:02  \n",
       "15  2021-03-07 22:19:51  \n",
       "16  2021-03-07 22:23:12  \n",
       "17  2021-03-07 22:24:55  "
      ]
     },
     "execution_count": 51,
     "metadata": {},
     "output_type": "execute_result"
    }
   ],
   "source": [
    "dt\n",
    "\n"
   ]
  },
  {
   "cell_type": "code",
   "execution_count": 43,
   "id": "blocked-farming",
   "metadata": {
    "scrolled": true
   },
   "outputs": [],
   "source": [
    "date = dt.sort_values('Humedad Ambiente')\n",
    "\n"
   ]
  },
  {
   "cell_type": "code",
   "execution_count": 44,
   "id": "natural-guitar",
   "metadata": {},
   "outputs": [
    {
     "data": {
      "text/plain": [
       "12    16.0\n",
       "17    21.0\n",
       "16    21.0\n",
       "14    22.0\n",
       "0     23.2\n",
       "10    26.0\n",
       "11    26.0\n",
       "8     31.0\n",
       "15    33.0\n",
       "13    37.0\n",
       "9     39.0\n",
       "2     40.0\n",
       "5     43.0\n",
       "1     50.0\n",
       "6     55.0\n",
       "7     55.0\n",
       "4     55.0\n",
       "3     60.0\n",
       "Name: Humedad Ambiente, dtype: float64"
      ]
     },
     "execution_count": 44,
     "metadata": {},
     "output_type": "execute_result"
    }
   ],
   "source": [
    "date['Humedad Ambiente']"
   ]
  },
  {
   "cell_type": "code",
   "execution_count": 46,
   "id": "retained-allowance",
   "metadata": {},
   "outputs": [],
   "source": [
    "date = dt.sort_values('Temperatura Suelo')"
   ]
  },
  {
   "cell_type": "code",
   "execution_count": 48,
   "id": "changing-entry",
   "metadata": {},
   "outputs": [
    {
     "data": {
      "text/plain": [
       "13    18\n",
       "6     19\n",
       "7     19\n",
       "0     21\n",
       "9     21\n",
       "1     23\n",
       "2     23\n",
       "3     25\n",
       "4     28\n",
       "5     28\n",
       "17    30\n",
       "16    32\n",
       "8     34\n",
       "11    35\n",
       "14    35\n",
       "10    35\n",
       "12    38\n",
       "15    43\n",
       "Name: Temperatura Suelo, dtype: int64"
      ]
     },
     "execution_count": 48,
     "metadata": {},
     "output_type": "execute_result"
    }
   ],
   "source": [
    "date['Temperatura Suelo']"
   ]
  },
  {
   "cell_type": "code",
   "execution_count": 52,
   "id": "united-polyester",
   "metadata": {},
   "outputs": [],
   "source": [
    "date = dt.sort_values('Humedad Suelo')"
   ]
  },
  {
   "cell_type": "code",
   "execution_count": 54,
   "id": "dutch-circuit",
   "metadata": {},
   "outputs": [
    {
     "data": {
      "text/plain": [
       "5     11.0\n",
       "4     12.0\n",
       "12    18.0\n",
       "14    21.0\n",
       "15    22.0\n",
       "13    23.0\n",
       "10    26.0\n",
       "11    26.0\n",
       "9     31.0\n",
       "0     32.1\n",
       "3     33.0\n",
       "16    33.0\n",
       "17    34.0\n",
       "2     39.0\n",
       "8     39.0\n",
       "6     43.0\n",
       "7     43.0\n",
       "1     44.0\n",
       "Name: Humedad Suelo, dtype: float64"
      ]
     },
     "execution_count": 54,
     "metadata": {},
     "output_type": "execute_result"
    }
   ],
   "source": [
    "date['Humedad Suelo']"
   ]
  },
  {
   "cell_type": "code",
   "execution_count": null,
   "id": "least-thomas",
   "metadata": {},
   "outputs": [],
   "source": []
  }
 ],
 "metadata": {
  "kernelspec": {
   "display_name": "conda_python3",
   "language": "python",
   "name": "conda_python3"
  },
  "language_info": {
   "codemirror_mode": {
    "name": "ipython",
    "version": 3
   },
   "file_extension": ".py",
   "mimetype": "text/x-python",
   "name": "python",
   "nbconvert_exporter": "python",
   "pygments_lexer": "ipython3",
   "version": "3.6.10"
  }
 },
 "nbformat": 4,
 "nbformat_minor": 5
}

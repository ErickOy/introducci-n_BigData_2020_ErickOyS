{
 "cells": [
  {
   "cell_type": "markdown",
   "id": "monthly-forestry",
   "metadata": {},
   "source": [
    "## Exportamos las librerias."
   ]
  },
  {
   "cell_type": "code",
   "execution_count": 14,
   "id": "quality-heather",
   "metadata": {},
   "outputs": [],
   "source": [
    "#Libreria para hacer DataFrame \n",
    "import pandas as pd \n",
    "\n",
    "#Libreria Para hacer grafica y comparaciones \n",
    "import seaborn as sns\n",
    "\n",
    "#Librerias para graficas de forma general \n",
    "from matplotlib import pyplot as plt"
   ]
  },
  {
   "cell_type": "markdown",
   "id": "after-potter",
   "metadata": {},
   "source": [
    "## Extraemos los datos de la API en formato JSON."
   ]
  },
  {
   "cell_type": "code",
   "execution_count": 2,
   "id": "diagnostic-burner",
   "metadata": {},
   "outputs": [],
   "source": [
    "dt = pd.read_json('Proyecto_Jardin.json')"
   ]
  },
  {
   "cell_type": "markdown",
   "id": "martial-daily",
   "metadata": {},
   "source": [
    "## Podemos ver nuestros datos de la API."
   ]
  },
  {
   "cell_type": "code",
   "execution_count": 4,
   "id": "animated-northwest",
   "metadata": {},
   "outputs": [
    {
     "data": {
      "text/html": [
       "<div>\n",
       "<style scoped>\n",
       "    .dataframe tbody tr th:only-of-type {\n",
       "        vertical-align: middle;\n",
       "    }\n",
       "\n",
       "    .dataframe tbody tr th {\n",
       "        vertical-align: top;\n",
       "    }\n",
       "\n",
       "    .dataframe thead th {\n",
       "        text-align: right;\n",
       "    }\n",
       "</style>\n",
       "<table border=\"1\" class=\"dataframe\">\n",
       "  <thead>\n",
       "    <tr style=\"text-align: right;\">\n",
       "      <th></th>\n",
       "      <th>id</th>\n",
       "      <th>H_AM</th>\n",
       "      <th>T_AM</th>\n",
       "      <th>H_SU</th>\n",
       "      <th>fechaJ</th>\n",
       "    </tr>\n",
       "  </thead>\n",
       "  <tbody>\n",
       "    <tr>\n",
       "      <th>0</th>\n",
       "      <td>26</td>\n",
       "      <td>15.2</td>\n",
       "      <td>37.3</td>\n",
       "      <td>64.3</td>\n",
       "      <td>2020-11-21 18:19:40</td>\n",
       "    </tr>\n",
       "    <tr>\n",
       "      <th>1</th>\n",
       "      <td>27</td>\n",
       "      <td>26.3</td>\n",
       "      <td>32.2</td>\n",
       "      <td>33.2</td>\n",
       "      <td>2020-11-21 18:19:40</td>\n",
       "    </tr>\n",
       "    <tr>\n",
       "      <th>2</th>\n",
       "      <td>28</td>\n",
       "      <td>18.0</td>\n",
       "      <td>23.2</td>\n",
       "      <td>34.0</td>\n",
       "      <td>2021-02-07 15:02:20</td>\n",
       "    </tr>\n",
       "    <tr>\n",
       "      <th>3</th>\n",
       "      <td>29</td>\n",
       "      <td>20.0</td>\n",
       "      <td>23.0</td>\n",
       "      <td>33.0</td>\n",
       "      <td>2021-02-07 15:05:02</td>\n",
       "    </tr>\n",
       "    <tr>\n",
       "      <th>4</th>\n",
       "      <td>30</td>\n",
       "      <td>21.1</td>\n",
       "      <td>19.0</td>\n",
       "      <td>42.0</td>\n",
       "      <td>2021-02-07 15:05:54</td>\n",
       "    </tr>\n",
       "    <tr>\n",
       "      <th>5</th>\n",
       "      <td>31</td>\n",
       "      <td>21.1</td>\n",
       "      <td>19.0</td>\n",
       "      <td>42.0</td>\n",
       "      <td>2021-02-07 15:05:59</td>\n",
       "    </tr>\n",
       "    <tr>\n",
       "      <th>6</th>\n",
       "      <td>32</td>\n",
       "      <td>23.3</td>\n",
       "      <td>21.8</td>\n",
       "      <td>36.0</td>\n",
       "      <td>2021-02-07 15:07:39</td>\n",
       "    </tr>\n",
       "    <tr>\n",
       "      <th>7</th>\n",
       "      <td>33</td>\n",
       "      <td>23.3</td>\n",
       "      <td>21.8</td>\n",
       "      <td>36.0</td>\n",
       "      <td>2021-02-07 15:07:42</td>\n",
       "    </tr>\n",
       "    <tr>\n",
       "      <th>8</th>\n",
       "      <td>34</td>\n",
       "      <td>28.3</td>\n",
       "      <td>25.8</td>\n",
       "      <td>36.0</td>\n",
       "      <td>2021-02-07 15:09:07</td>\n",
       "    </tr>\n",
       "  </tbody>\n",
       "</table>\n",
       "</div>"
      ],
      "text/plain": [
       "   id  H_AM  T_AM  H_SU               fechaJ\n",
       "0  26  15.2  37.3  64.3  2020-11-21 18:19:40\n",
       "1  27  26.3  32.2  33.2  2020-11-21 18:19:40\n",
       "2  28  18.0  23.2  34.0  2021-02-07 15:02:20\n",
       "3  29  20.0  23.0  33.0  2021-02-07 15:05:02\n",
       "4  30  21.1  19.0  42.0  2021-02-07 15:05:54\n",
       "5  31  21.1  19.0  42.0  2021-02-07 15:05:59\n",
       "6  32  23.3  21.8  36.0  2021-02-07 15:07:39\n",
       "7  33  23.3  21.8  36.0  2021-02-07 15:07:42\n",
       "8  34  28.3  25.8  36.0  2021-02-07 15:09:07"
      ]
     },
     "execution_count": 4,
     "metadata": {},
     "output_type": "execute_result"
    }
   ],
   "source": [
    "dt  #Humedad ambiente, temperatura ambiente, humedad de la tierra y fecha."
   ]
  },
  {
   "cell_type": "markdown",
   "id": "simplified-neighborhood",
   "metadata": {},
   "source": [
    "## Imprimir nuestra información sobre nuestro DataFrame "
   ]
  },
  {
   "cell_type": "code",
   "execution_count": 6,
   "id": "constitutional-brick",
   "metadata": {},
   "outputs": [
    {
     "name": "stdout",
     "output_type": "stream",
     "text": [
      "<class 'pandas.core.frame.DataFrame'>\n",
      "RangeIndex: 9 entries, 0 to 8\n",
      "Data columns (total 5 columns):\n",
      " #   Column  Non-Null Count  Dtype  \n",
      "---  ------  --------------  -----  \n",
      " 0   id      9 non-null      int64  \n",
      " 1   H_AM    9 non-null      float64\n",
      " 2   T_AM    9 non-null      float64\n",
      " 3   H_SU    9 non-null      float64\n",
      " 4   fechaJ  9 non-null      object \n",
      "dtypes: float64(3), int64(1), object(1)\n",
      "memory usage: 488.0+ bytes\n"
     ]
    }
   ],
   "source": [
    "dt.info()"
   ]
  },
  {
   "cell_type": "markdown",
   "id": "foster-fundamentals",
   "metadata": {},
   "source": [
    "## Este comando genera estadísticas descriptivas sobre nuestra API.\n"
   ]
  },
  {
   "cell_type": "code",
   "execution_count": 7,
   "id": "premier-washington",
   "metadata": {},
   "outputs": [
    {
     "data": {
      "text/html": [
       "<div>\n",
       "<style scoped>\n",
       "    .dataframe tbody tr th:only-of-type {\n",
       "        vertical-align: middle;\n",
       "    }\n",
       "\n",
       "    .dataframe tbody tr th {\n",
       "        vertical-align: top;\n",
       "    }\n",
       "\n",
       "    .dataframe thead th {\n",
       "        text-align: right;\n",
       "    }\n",
       "</style>\n",
       "<table border=\"1\" class=\"dataframe\">\n",
       "  <thead>\n",
       "    <tr style=\"text-align: right;\">\n",
       "      <th></th>\n",
       "      <th>id</th>\n",
       "      <th>H_AM</th>\n",
       "      <th>T_AM</th>\n",
       "      <th>H_SU</th>\n",
       "    </tr>\n",
       "  </thead>\n",
       "  <tbody>\n",
       "    <tr>\n",
       "      <th>count</th>\n",
       "      <td>9.000000</td>\n",
       "      <td>9.000000</td>\n",
       "      <td>9.000000</td>\n",
       "      <td>9.000000</td>\n",
       "    </tr>\n",
       "    <tr>\n",
       "      <th>mean</th>\n",
       "      <td>30.000000</td>\n",
       "      <td>21.844444</td>\n",
       "      <td>24.788889</td>\n",
       "      <td>39.611111</td>\n",
       "    </tr>\n",
       "    <tr>\n",
       "      <th>std</th>\n",
       "      <td>2.738613</td>\n",
       "      <td>4.018741</td>\n",
       "      <td>6.155169</td>\n",
       "      <td>9.851198</td>\n",
       "    </tr>\n",
       "    <tr>\n",
       "      <th>min</th>\n",
       "      <td>26.000000</td>\n",
       "      <td>15.200000</td>\n",
       "      <td>19.000000</td>\n",
       "      <td>33.000000</td>\n",
       "    </tr>\n",
       "    <tr>\n",
       "      <th>25%</th>\n",
       "      <td>28.000000</td>\n",
       "      <td>20.000000</td>\n",
       "      <td>21.800000</td>\n",
       "      <td>34.000000</td>\n",
       "    </tr>\n",
       "    <tr>\n",
       "      <th>50%</th>\n",
       "      <td>30.000000</td>\n",
       "      <td>21.100000</td>\n",
       "      <td>23.000000</td>\n",
       "      <td>36.000000</td>\n",
       "    </tr>\n",
       "    <tr>\n",
       "      <th>75%</th>\n",
       "      <td>32.000000</td>\n",
       "      <td>23.300000</td>\n",
       "      <td>25.800000</td>\n",
       "      <td>42.000000</td>\n",
       "    </tr>\n",
       "    <tr>\n",
       "      <th>max</th>\n",
       "      <td>34.000000</td>\n",
       "      <td>28.300000</td>\n",
       "      <td>37.300000</td>\n",
       "      <td>64.300000</td>\n",
       "    </tr>\n",
       "  </tbody>\n",
       "</table>\n",
       "</div>"
      ],
      "text/plain": [
       "              id       H_AM       T_AM       H_SU\n",
       "count   9.000000   9.000000   9.000000   9.000000\n",
       "mean   30.000000  21.844444  24.788889  39.611111\n",
       "std     2.738613   4.018741   6.155169   9.851198\n",
       "min    26.000000  15.200000  19.000000  33.000000\n",
       "25%    28.000000  20.000000  21.800000  34.000000\n",
       "50%    30.000000  21.100000  23.000000  36.000000\n",
       "75%    32.000000  23.300000  25.800000  42.000000\n",
       "max    34.000000  28.300000  37.300000  64.300000"
      ]
     },
     "execution_count": 7,
     "metadata": {},
     "output_type": "execute_result"
    }
   ],
   "source": [
    "dt.describe()"
   ]
  },
  {
   "cell_type": "markdown",
   "id": "hundred-constitution",
   "metadata": {},
   "source": [
    "## Vamos a ver nuestra correlación de nuestros datos."
   ]
  },
  {
   "cell_type": "code",
   "execution_count": 24,
   "id": "confident-vacation",
   "metadata": {},
   "outputs": [
    {
     "data": {
      "text/html": [
       "<div>\n",
       "<style scoped>\n",
       "    .dataframe tbody tr th:only-of-type {\n",
       "        vertical-align: middle;\n",
       "    }\n",
       "\n",
       "    .dataframe tbody tr th {\n",
       "        vertical-align: top;\n",
       "    }\n",
       "\n",
       "    .dataframe thead th {\n",
       "        text-align: right;\n",
       "    }\n",
       "</style>\n",
       "<table border=\"1\" class=\"dataframe\">\n",
       "  <thead>\n",
       "    <tr style=\"text-align: right;\">\n",
       "      <th></th>\n",
       "      <th>id</th>\n",
       "      <th>H_AM</th>\n",
       "      <th>T_AM</th>\n",
       "      <th>H_SU</th>\n",
       "    </tr>\n",
       "  </thead>\n",
       "  <tbody>\n",
       "    <tr>\n",
       "      <th>id</th>\n",
       "      <td>1.000000</td>\n",
       "      <td>0.625808</td>\n",
       "      <td>-0.622900</td>\n",
       "      <td>-0.425337</td>\n",
       "    </tr>\n",
       "    <tr>\n",
       "      <th>H_AM</th>\n",
       "      <td>0.625808</td>\n",
       "      <td>1.000000</td>\n",
       "      <td>-0.173106</td>\n",
       "      <td>-0.619561</td>\n",
       "    </tr>\n",
       "    <tr>\n",
       "      <th>T_AM</th>\n",
       "      <td>-0.622900</td>\n",
       "      <td>-0.173106</td>\n",
       "      <td>1.000000</td>\n",
       "      <td>0.561531</td>\n",
       "    </tr>\n",
       "    <tr>\n",
       "      <th>H_SU</th>\n",
       "      <td>-0.425337</td>\n",
       "      <td>-0.619561</td>\n",
       "      <td>0.561531</td>\n",
       "      <td>1.000000</td>\n",
       "    </tr>\n",
       "  </tbody>\n",
       "</table>\n",
       "</div>"
      ],
      "text/plain": [
       "            id      H_AM      T_AM      H_SU\n",
       "id    1.000000  0.625808 -0.622900 -0.425337\n",
       "H_AM  0.625808  1.000000 -0.173106 -0.619561\n",
       "T_AM -0.622900 -0.173106  1.000000  0.561531\n",
       "H_SU -0.425337 -0.619561  0.561531  1.000000"
      ]
     },
     "execution_count": 24,
     "metadata": {},
     "output_type": "execute_result"
    }
   ],
   "source": [
    "dt.corr()"
   ]
  },
  {
   "cell_type": "markdown",
   "id": "brave-bradford",
   "metadata": {},
   "source": [
    "##  Vamos a relacionar nuestros datos de la API. "
   ]
  },
  {
   "cell_type": "code",
   "execution_count": 10,
   "id": "intelligent-laundry",
   "metadata": {},
   "outputs": [],
   "source": [
    "Relation = dt[['H_AM','T_AM','H_SU']] "
   ]
  },
  {
   "cell_type": "code",
   "execution_count": 11,
   "id": "accredited-broadcast",
   "metadata": {},
   "outputs": [
    {
     "data": {
      "text/html": [
       "<div>\n",
       "<style scoped>\n",
       "    .dataframe tbody tr th:only-of-type {\n",
       "        vertical-align: middle;\n",
       "    }\n",
       "\n",
       "    .dataframe tbody tr th {\n",
       "        vertical-align: top;\n",
       "    }\n",
       "\n",
       "    .dataframe thead th {\n",
       "        text-align: right;\n",
       "    }\n",
       "</style>\n",
       "<table border=\"1\" class=\"dataframe\">\n",
       "  <thead>\n",
       "    <tr style=\"text-align: right;\">\n",
       "      <th></th>\n",
       "      <th>H_AM</th>\n",
       "      <th>T_AM</th>\n",
       "      <th>H_SU</th>\n",
       "    </tr>\n",
       "  </thead>\n",
       "  <tbody>\n",
       "    <tr>\n",
       "      <th>0</th>\n",
       "      <td>15.2</td>\n",
       "      <td>37.3</td>\n",
       "      <td>64.3</td>\n",
       "    </tr>\n",
       "    <tr>\n",
       "      <th>1</th>\n",
       "      <td>26.3</td>\n",
       "      <td>32.2</td>\n",
       "      <td>33.2</td>\n",
       "    </tr>\n",
       "    <tr>\n",
       "      <th>2</th>\n",
       "      <td>18.0</td>\n",
       "      <td>23.2</td>\n",
       "      <td>34.0</td>\n",
       "    </tr>\n",
       "    <tr>\n",
       "      <th>3</th>\n",
       "      <td>20.0</td>\n",
       "      <td>23.0</td>\n",
       "      <td>33.0</td>\n",
       "    </tr>\n",
       "    <tr>\n",
       "      <th>4</th>\n",
       "      <td>21.1</td>\n",
       "      <td>19.0</td>\n",
       "      <td>42.0</td>\n",
       "    </tr>\n",
       "  </tbody>\n",
       "</table>\n",
       "</div>"
      ],
      "text/plain": [
       "   H_AM  T_AM  H_SU\n",
       "0  15.2  37.3  64.3\n",
       "1  26.3  32.2  33.2\n",
       "2  18.0  23.2  34.0\n",
       "3  20.0  23.0  33.0\n",
       "4  21.1  19.0  42.0"
      ]
     },
     "execution_count": 11,
     "metadata": {},
     "output_type": "execute_result"
    }
   ],
   "source": [
    "Relation.head()"
   ]
  },
  {
   "cell_type": "markdown",
   "id": "breeding-primary",
   "metadata": {},
   "source": [
    "## Vamos a ver como se relacionan nuestros datos."
   ]
  },
  {
   "cell_type": "code",
   "execution_count": 15,
   "id": "dimensional-barbados",
   "metadata": {},
   "outputs": [
    {
     "data": {
      "image/png": "[encoded data removed]",
      "text/plain": [
       "<Figure size 540x540 with 12 Axes>"
      ]
     },
     "metadata": {
      "needs_background": "light"
     },
     "output_type": "display_data"
    }
   ],
   "source": [
    "sns.pairplot(Relation, kind='reg')\n",
    "plt.show()"
   ]
  },
  {
   "cell_type": "code",
   "execution_count": 16,
   "id": "confirmed-tract",
   "metadata": {},
   "outputs": [
    {
     "data": {
      "text/plain": [
       "<matplotlib.axes._subplots.AxesSubplot at 0x7f11cdac4390>"
      ]
     },
     "execution_count": 16,
     "metadata": {},
     "output_type": "execute_result"
    },
    {
     "data": {
      "image/png": "[encoded data removed]",
      "text/plain": [
       "<Figure size 432x288 with 1 Axes>"
      ]
     },
     "metadata": {
      "needs_background": "light"
     },
     "output_type": "display_data"
    }
   ],
   "source": [
    "sns.distplot(dt.H_AM)"
   ]
  },
  {
   "cell_type": "code",
   "execution_count": 23,
   "id": "three-poison",
   "metadata": {},
   "outputs": [
    {
     "data": {
      "text/plain": [
       "<matplotlib.axes._subplots.AxesSubplot at 0x7f11d5dbde10>"
      ]
     },
     "execution_count": 23,
     "metadata": {},
     "output_type": "execute_result"
    },
    {
     "data": {
      "image/png": "[encoded data removed]",
      "text/plain": [
       "<Figure size 432x288 with 1 Axes>"
      ]
     },
     "metadata": {
      "needs_background": "light"
     },
     "output_type": "display_data"
    }
   ],
   "source": [
    "sns.distplot(dt.T_AM)"
   ]
  },
  {
   "cell_type": "code",
   "execution_count": 19,
   "id": "complete-spoke",
   "metadata": {},
   "outputs": [
    {
     "data": {
      "text/plain": [
       "<seaborn.axisgrid.FacetGrid at 0x7f11d9369d68>"
      ]
     },
     "execution_count": 19,
     "metadata": {},
     "output_type": "execute_result"
    },
    {
     "data": {
      "image/png": "[encoded data removed]",
      "text/plain": [
       "<Figure size 360x360 with 1 Axes>"
      ]
     },
     "metadata": {
      "needs_background": "light"
     },
     "output_type": "display_data"
    }
   ],
   "source": [
    "sns.lmplot(x='H_AM', y='H_SU', data=dt)  #Humedad ambiente y humedad de la tierra.\n"
   ]
  },
  {
   "cell_type": "code",
   "execution_count": 21,
   "id": "boring-champagne",
   "metadata": {},
   "outputs": [
    {
     "data": {
      "text/plain": [
       "<seaborn.axisgrid.FacetGrid at 0x7f11d5f1fcc0>"
      ]
     },
     "execution_count": 21,
     "metadata": {},
     "output_type": "execute_result"
    },
    {
     "data": {
      "image/png": "[encoded data removed]",
      "text/plain": [
       "<Figure size 360x360 with 1 Axes>"
      ]
     },
     "metadata": {
      "needs_background": "light"
     },
     "output_type": "display_data"
    }
   ],
   "source": [
    "sns.lmplot(x='H_AM', y='T_AM', data=dt) #Humedad ambiente y temperatua ambiente "
   ]
  },
  {
   "cell_type": "code",
   "execution_count": 22,
   "id": "renewable-savannah",
   "metadata": {},
   "outputs": [
    {
     "data": {
      "text/plain": [
       "<seaborn.axisgrid.FacetGrid at 0x7f11cdc88860>"
      ]
     },
     "execution_count": 22,
     "metadata": {},
     "output_type": "execute_result"
    },
    {
     "data": {
      "image/png": "[encoded data removed]",
      "text/plain": [
       "<Figure size 360x360 with 1 Axes>"
      ]
     },
     "metadata": {
      "needs_background": "light"
     },
     "output_type": "display_data"
    }
   ],
   "source": [
    "sns.lmplot(x='H_SU', y='T_AM', data=dt)"
   ]
  },
  {
   "cell_type": "code",
   "execution_count": null,
   "id": "accessible-forum",
   "metadata": {},
   "outputs": [],
   "source": []
  }
 ],
 "metadata": {
  "kernelspec": {
   "display_name": "conda_python3",
   "language": "python",
   "name": "conda_python3"
  },
  "language_info": {
   "codemirror_mode": {
    "name": "ipython",
    "version": 3
   },
   "file_extension": ".py",
   "mimetype": "text/x-python",
   "name": "python",
   "nbconvert_exporter": "python",
   "pygments_lexer": "ipython3",
   "version": "3.6.10"
  }
 },
 "nbformat": 4,
 "nbformat_minor": 5
}
